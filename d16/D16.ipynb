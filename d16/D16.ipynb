{
 "cells": [
  {
   "cell_type": "markdown",
   "metadata": {},
   "source": [
    "# D16 使用 Python 控制 DHT22 感測器與繼電器"
   ]
  },
  {
   "cell_type": "markdown",
   "metadata": {},
   "source": [
    "# 作業1：\n",
    "* 練習將 DHT22 接於 GPIO 27 接腳，並且更改軟體的接腳設定值，重新執行範例程式，驗證在不同的接腳上安裝 DHT22，程式一樣可以正確地讀出數值。"
   ]
  },
  {
   "cell_type": "markdown",
   "metadata": {},
   "source": [
    "DHT22的資料線的接腳位置在GPIO 17"
   ]
  },
  {
   "cell_type": "markdown",
   "metadata": {},
   "source": [
    "```\n",
    "import Adafruit_DHT             # 匯入Adafruit_DHT模組\n",
    "DHT_SENSOR = Adafruit_DHT.DHT22  # 感測器為DHT22\n",
    "DHT_PIN = 27                    # 設定DHT22 Data接線的接腳位置\n",
    "while True:\n",
    "    humidity, temperature = Adafruit_DHT.read_retry(DHT_SENSOR, DHT_PIN)\n",
    "    if humidity is not None and temperature is not None:\n",
    "        print(\"Temp={0:0.1f}*C  Humidity={1:0.1f}%\".format(temperature, humidity))\n",
    "    else:\n",
    "        print(\"Failed to retrieve data from humidity sensor\")\n",
    "```"
   ]
  },
  {
   "cell_type": "markdown",
   "metadata": {},
   "source": [
    "將接腳改成17，再把DHT22的資料線也接到GPIO 17"
   ]
  },
  {
   "cell_type": "markdown",
   "metadata": {},
   "source": [
    "![](https://raw.githubusercontent.com/yaws508/cupoy/main/d16/d16-01.png)"
   ]
  },
  {
   "cell_type": "markdown",
   "metadata": {},
   "source": [
    "# 作業2：\n",
    "* 觀察 RPi.GPIO 的程式碼，與 GPIOZero 程式碼對於繼電器控制上寫法的不同，如果我們要設定 GPIO 26, 19, 13, 6 四個接腳控制一個四路繼電器，練習實作一個 GPIOZero 四路繼電器的控制程式"
   ]
  },
  {
   "cell_type": "markdown",
   "metadata": {},
   "source": [
    "#RPi.GPIO的程式碼：使用GPIO 26連接繼電器\n",
    "* 5秒鐘切換一次"
   ]
  },
  {
   "cell_type": "markdown",
   "metadata": {},
   "source": [
    "```\n",
    "import RPi.GPIO as GPIO\n",
    "from time import sleep\n",
    "\n",
    "relay_pin = 26\n",
    "\n",
    "GPIO.setmode(GPIO.BCM)\n",
    "GPIO.setup(relay_pin, GPIO.OUT)\n",
    "GPIO.output(relay_pin, 1)\n",
    "try:\n",
    "    while True:\n",
    "        GPIO.output(relay_pin, 0)\n",
    "        sleep(5)\n",
    "        GPIO.output(relay_pin, 1)\n",
    "        sleep(5)\n",
    "except KeyboardInterrupt:\n",
    "\tpass\n",
    "GPIO.cleanup()\n",
    "\n",
    "```"
   ]
  },
  {
   "cell_type": "markdown",
   "metadata": {},
   "source": [
    "GPIOZero 程式碼寫法:"
   ]
  },
  {
   "cell_type": "markdown",
   "metadata": {},
   "source": [
    "```\n",
    "#GPIOZero 程式碼：使用GPIO 26,19,13,6連接4個繼電器\n",
    "import gpiozero\n",
    "\n",
    "RELAY_PIN = 26\n",
    "relay = gpiozero.OutputDevice(RELAY_PIN, active_high=False, initial_value=True)\n",
    "try:\n",
    "    while True:\n",
    "      relay.off()\n",
    "      sleep(5)\n",
    "      relay.on()\n",
    "      sleep(5)\n",
    "except KeyboardInterrupt:\n",
    "    print(\"\\n程式結束執行\\n\")\n",
    "    # 跳出程式，程式執行結束\n",
    "    sys.exit(0)\n",
    "```"
   ]
  },
  {
   "cell_type": "markdown",
   "metadata": {},
   "source": [
    "* 5秒鐘切換一次"
   ]
  },
  {
   "cell_type": "markdown",
   "metadata": {},
   "source": [
    "# 作業3：\n",
    "* 將作業 1 與作業 2 結合，設定程式在溫度 10 度以下，打開 GPIO26，溫度 10 度以上到 20 度之間，控制 GPIO19，溫度 20 度到 30 度之間，控制 GPIO13，溫度在 30 度以上，控制 GPIO6，達成在不同的溫度區間時，控制不同的繼電器的需求。"
   ]
  },
  {
   "cell_type": "markdown",
   "metadata": {},
   "source": [
    "```\n",
    "import Adafruit_DHT\n",
    "import sys\n",
    "import time\n",
    "import gpiozero\n",
    "\n",
    "\n",
    "DHT_SENSOR = Adafruit_DHT.DHT22\n",
    "DHT_PIN = 27\n",
    "relay_pin1 = 26\n",
    "relay_pin2 = 19\n",
    "relay_pin3 = 13\n",
    "relay_pin4 = 6\n",
    "relay1 = gpiozero.OutputDevice(relay_pin1, active_high=False, initial_value=False)\n",
    "relay2 = gpiozero.OutputDevice(relay_pin2, active_high=False, initial_value=False)\n",
    "relay3 = gpiozero.OutputDevice(relay_pin3, active_high=False, initial_value=False)\n",
    "relay4 = gpiozero.OutputDevice(relay_pin4, active_high=False, initial_value=False)\n",
    "\n",
    "def set_relay(status): #定義繼電器開關\n",
    "    if status:\n",
    "        print(\"relay on\")\n",
    "        relay1.on()\n",
    "        relay2.on()\n",
    "        relay3.on()\n",
    "        relay4.on()\n",
    "\n",
    "    else:\n",
    "        print(\"relay off\")\n",
    "        relay1.off()\n",
    "        relay2.off()\n",
    "        relay3.off()\n",
    "        relay4.off()\n",
    "\n",
    "def main_loop():\n",
    "    while True:\n",
    "        humidity, temperature = Adafruit_DHT.read_retry(DHT_SENSOR, DHT_PIN)\n",
    "        if humidity is not None and temperature is not None:\n",
    "            print(\"Temp={0:0.1f}*C Humidity={1:0.1f}%\".format(temperature, humidity))\n",
    "            if temperature <= 10:\n",
    "                relay1.on()\n",
    "                relay2.off()\n",
    "                relay3.off()\n",
    "                relay4.off()\n",
    "                print(\"relay1 is  on\")  \n",
    "            if temperature > 10 and  temperature <= 20:\n",
    "                relay1.off()\n",
    "                relay2.on()\n",
    "                relay3.off()\n",
    "                relay4.off()\n",
    "                print(\"relay2 is  on\") \n",
    "            if temperature > 20 and  temperature <= 30:\n",
    "                relay1.off()\n",
    "                relay2.off()\n",
    "                relay3.on()\n",
    "                relay4.off()\n",
    "                print(\"relay3 is  on\")\n",
    "            if temperature > 30:\n",
    "                relay1.off()\n",
    "                relay2.off()\n",
    "                relay3.off()\n",
    "                relay4.on()\n",
    "                print(\"relay4 is  on\") \n",
    "            time.sleep(1)\n",
    "        else:\n",
    "            print(\"Failed to retrieve data from humidity sensor\")\n",
    "\n",
    "if __name__==\"__main__\":\n",
    "    try:\n",
    "        main_loop()\n",
    "    except KeyboardInterrupt:\n",
    "        set_relay(False) #關閉程式時可將所有繼電器關閉\n",
    "        print(\"Exit\\n\")\n",
    "        sys.exit(0)\n",
    "```"
   ]
  },
  {
   "cell_type": "markdown",
   "metadata": {},
   "source": [
    "![](https://raw.githubusercontent.com/yaws508/cupoy/main/d16/d16-02.png)"
   ]
  },
  {
   "cell_type": "code",
   "execution_count": null,
   "metadata": {},
   "outputs": [],
   "source": []
  }
 ],
 "metadata": {
  "kernelspec": {
   "display_name": "Python 3",
   "language": "python",
   "name": "python3"
  },
  "language_info": {
   "codemirror_mode": {
    "name": "ipython",
    "version": 3
   },
   "file_extension": ".py",
   "mimetype": "text/x-python",
   "name": "python",
   "nbconvert_exporter": "python",
   "pygments_lexer": "ipython3",
   "version": "3.7.6"
  }
 },
 "nbformat": 4,
 "nbformat_minor": 4
}
