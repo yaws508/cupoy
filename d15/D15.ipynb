{
 "cells": [
  {
   "cell_type": "markdown",
   "metadata": {},
   "source": [
    "# D15 使用 Python 進行 WebCam 視訊擷取與輸出"
   ]
  },
  {
   "cell_type": "markdown",
   "metadata": {},
   "source": [
    "# 作業1：\n",
    "* 執行 lsusb -v 指令，觀察系統顯示的 usb 裝置，透過 grep “14 Video” 指令篩選顯示的結果，了解 webcam 裝置在系統層次支援的狀態。"
   ]
  },
  {
   "cell_type": "markdown",
   "metadata": {},
   "source": [
    "＊　root@raspberrypi:~# lsusb -v|grep \"Video\""
   ]
  },
  {
   "cell_type": "markdown",
   "metadata": {},
   "source": [
    "\n",
    "can't get debug descriptor: Resource temporarily unavailable\n",
    "can't get debug descriptor: Resource temporarily unavailable\n",
    "can't get device qualifier: Resource temporarily unavailable\n",
    "can't get debug descriptor: Resource temporarily unavailable\n",
    "      bFunctionClass         14 Video\n",
    "      bFunctionSubClass       3 Video Interface Collection\n",
    "      bInterfaceClass        14 Video\n",
    "      bInterfaceSubClass      1 Video Control\n",
    "      VideoControl Interface Descriptor:\n",
    "      VideoControl Interface Descriptor:\n",
    "      VideoControl Interface Descriptor:\n",
    "        bmVideoStandards     0x1d\n",
    "      VideoControl Interface Descriptor:\n",
    "      VideoControl Interface Descriptor:\n",
    "      bInterfaceClass        14 Video\n",
    "      bInterfaceSubClass      2 Video Streaming\n",
    "      VideoStreaming Interface Descriptor:\n",
    "      VideoStreaming Interface Descriptor:\n",
    "      VideoStreaming Interface Descriptor:\n",
    "        dwMaxVideoFrameBufferSize      614400\n",
    "      VideoStreaming Interface Descriptor:\n",
    "        dwMaxVideoFrameBufferSize      153600\n",
    "      VideoStreaming Interface Descriptor:\n",
    "        dwMaxVideoFrameBufferSize      960000\n",
    "      VideoStreaming Interface Descriptor:\n",
    "        dwMaxVideoFrameBufferSize     1843200\n",
    "      VideoStreaming Interface Descriptor:\n",
    "        dwMaxVideoFrameBufferSize     2457600\n",
    "      VideoStreaming Interface Descriptor:\n",
    "        dwMaxVideoFrameBufferSize     4147200\n",
    "      VideoStreaming Interface Descriptor:\n",
    "      VideoStreaming Interface Descriptor:\n",
    "      VideoStreaming Interface Descriptor:\n",
    "      VideoStreaming Interface Descriptor:\n",
    "        dwMaxVideoFrameBufferSize      614400\n",
    "      VideoStreaming Interface Descriptor:\n",
    "        dwMaxVideoFrameBufferSize      153600\n",
    "      VideoStreaming Interface Descriptor:\n",
    "        dwMaxVideoFrameBufferSize      960000\n",
    "      VideoStreaming Interface Descriptor:\n",
    "        dwMaxVideoFrameBufferSize     1843200\n",
    "      VideoStreaming Interface Descriptor:\n",
    "        dwMaxVideoFrameBufferSize     2457600\n",
    "      VideoStreaming Interface Descriptor:\n",
    "        dwMaxVideoFrameBufferSize     4147200\n",
    "      VideoStreaming Interface Descriptor:\n",
    "      VideoStreaming Interface Descriptor:\n",
    "      bInterfaceClass        14 Video\n",
    "      bInterfaceSubClass      2 Video Streaming\n",
    "      bInterfaceClass        14 Video\n",
    "      bInterfaceSubClass      2 Video Streaming\n",
    "      bInterfaceClass        14 Video\n",
    "      bInterfaceSubClass      2 Video Streaming\n",
    "      bInterfaceClass        14 Video\n",
    "      bInterfaceSubClass      2 Video Streaming\n",
    "      bInterfaceClass        14 Video\n",
    "      bInterfaceSubClass      2 Video Streaming\n",
    "      bInterfaceClass        14 Video\n",
    "      bInterfaceSubClass      2 Video Streaming\n",
    "      bInterfaceClass        14 Video\n",
    "      bInterfaceSubClass      2 Video Streaming\n",
    "      bInterfaceClass        14 Video\n",
    "      bInterfaceSubClass      2 Video Streaming\n",
    "      bInterfaceClass        14 Video\n",
    "      bInterfaceSubClass      2 Video Streaming\n",
    "      bInterfaceClass        14 Video\n",
    "      bInterfaceSubClass      2 Video Streaming\n",
    "      bInterfaceClass        14 Video\n",
    "      bInterfaceSubClass      2 Video Streaming\n",
    "can't get debug descriptor: Resource temporarily unavailable\n",
    "can't get debug descriptor: Resource temporarily unavailable\n",
    "can't get device qualifier: Resource temporarily unavailable\n",
    "can't get debug descriptor: Resource temporarily unavailable\n"
   ]
  },
  {
   "cell_type": "markdown",
   "metadata": {},
   "source": [
    "# 作業2：\n",
    "* 安裝 fswebcam，執行 fswebcam 拍一張照片，確定 webcam 動作正常，並且透過更改參數與設定參數檔案的方式，執行 fswebcam，確定可以產生隨時間依序儲存的檔案。"
   ]
  },
  {
   "attachments": {},
   "cell_type": "markdown",
   "metadata": {},
   "source": [
    "fswebcam -r 1024x768 -d /dev/video0 %Y_%m_%d-%H_%M_%S.jpg\n"
   ]
  },
  {
   "cell_type": "markdown",
   "metadata": {},
   "source": [
    "![](https://raw.githubusercontent.com/yaws508/cupoy/main/d15/d15-01.png)"
   ]
  },
  {
   "cell_type": "markdown",
   "metadata": {},
   "source": [
    "# 作業3：\n",
    "* 透過 python 呼叫 fswebcam，觀察 python 呼叫 fswebcam 執行外部參數的方式，並且練習更改 fswebcam 的參數檔案，不更動 python 程式碼的方式，儲存各種類型的拍照結果。"
   ]
  },
  {
   "cell_type": "markdown",
   "metadata": {},
   "source": [
    "```\n",
    "#!/usr/bin/python3\n",
    "import time\n",
    "import os\n",
    "import datetime\n",
    "\n",
    "while True:\n",
    "   d1=time.strftime(\"%Y_%m_%d-%H_%M_%S\")\n",
    "   action=\"fswebcam -r 1024x768 -d /dev/video0 \"+d1+\".jpg\"\n",
    "   os.system(action)\n",
    "   time.sleep(1*20)\n",
    "\n",
    "```"
   ]
  },
  {
   "cell_type": "markdown",
   "metadata": {},
   "source": [
    "![](https://raw.githubusercontent.com/yaws508/cupoy/main/d15/d15-02.png)"
   ]
  }
 ],
 "metadata": {
  "kernelspec": {
   "display_name": "Python 3",
   "language": "python",
   "name": "python3"
  },
  "language_info": {
   "codemirror_mode": {
    "name": "ipython",
    "version": 3
   },
   "file_extension": ".py",
   "mimetype": "text/x-python",
   "name": "python",
   "nbconvert_exporter": "python",
   "pygments_lexer": "ipython3",
   "version": "3.7.6"
  }
 },
 "nbformat": 4,
 "nbformat_minor": 4
}
