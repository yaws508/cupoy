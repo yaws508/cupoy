{
 "cells": [
  {
   "cell_type": "code",
   "execution_count": null,
   "metadata": {},
   "outputs": [],
   "source": []
  },
  {
   "cell_type": "markdown",
   "metadata": {},
   "source": [
    "# 作業1\n",
    "* 建立 DB 及 Collection (名稱自訂)，使用 Python 取得連線。"
   ]
  },
  {
   "cell_type": "markdown",
   "metadata": {},
   "source": [
    "# 作業2\n",
    "* 使用 Python 操作 Mongo 中的資料。"
   ]
  },
  {
   "cell_type": "code",
   "execution_count": 198,
   "metadata": {},
   "outputs": [],
   "source": [
    "# Connect the mongo server\n",
    "from pymongo import MongoClient\n",
    "client = MongoClient(host='127.0.0.1', port=27017)\n"
   ]
  },
  {
   "cell_type": "code",
   "execution_count": 199,
   "metadata": {},
   "outputs": [],
   "source": [
    "#use or create db  and  select collections\n",
    "db = client[\"demodb\"]\n",
    "collection = db[\"member\"]\n"
   ]
  },
  {
   "cell_type": "code",
   "execution_count": 200,
   "metadata": {},
   "outputs": [
    {
     "name": "stdout",
     "output_type": "stream",
     "text": [
      "5fe6ae1dc0bd0c2d5a3d7fb9\n"
     ]
    }
   ],
   "source": [
    "#insert one \n",
    "my_data = {\"name\": \"Andy\", \"phone\": '0917381313', \"email\": 'jason@gmail.com',\"age\":24,\"country\":\"JP\"}\n",
    "result = collection.insert_one(my_data)\n",
    "print(result.inserted_id)"
   ]
  },
  {
   "cell_type": "code",
   "execution_count": 201,
   "metadata": {},
   "outputs": [
    {
     "name": "stdout",
     "output_type": "stream",
     "text": [
      "[ObjectId('5fe6ae24c0bd0c2d5a3d7fba'), ObjectId('5fe6ae24c0bd0c2d5a3d7fbb'), ObjectId('5fe6ae24c0bd0c2d5a3d7fbc'), ObjectId('5fe6ae24c0bd0c2d5a3d7fbd'), ObjectId('5fe6ae24c0bd0c2d5a3d7fbe')]\n"
     ]
    },
    {
     "data": {
      "text/plain": [
       "6"
      ]
     },
     "execution_count": 201,
     "metadata": {},
     "output_type": "execute_result"
    }
   ],
   "source": [
    "\n",
    "#insert many\n",
    "data_list = [{\"name\" : \"Binod Suman\", \"email\" : \"test1@abc.com\", \"phone\": \"0912345672\",\"age\":36,\"country\":\"US\"},\n",
    "            {\"name\" : \"Cathy\", \"email\" : \"test2@abc.com\", \"phone\": \"0912345672\",\"age\":36,\"country\":\"IN\"}, \n",
    "            {\"name\" : \"David\", \"email\" : \"test3@abc.com\", \"phone\": \"0912345673\",\"age\":45,\"country\":\"IN\"},\n",
    "            {\"name\" : \"Jason\", \"email\" : \"test4@abc.com\", \"phone\": \"0912345671\",\"age\":26,\"country\":\"US\"},\n",
    "            {\"name\" : \"Jason\", \"email\" : \"test5@abc.com\", \"phone\": \"09342345678\",\"age\":36,\"country\":\"JP\"}]\n",
    "result = collection.insert_many(data_list)\n",
    "print(result.inserted_ids)\n",
    "collection.count_documents({})"
   ]
  },
  {
   "cell_type": "code",
   "execution_count": 202,
   "metadata": {},
   "outputs": [
    {
     "name": "stdout",
     "output_type": "stream",
     "text": [
      "{'_id': ObjectId('5fe6ae1dc0bd0c2d5a3d7fb9'), 'name': 'Andy', 'phone': '0917381313', 'email': 'jason@gmail.com', 'age': 24, 'country': 'JP'}\n",
      "{'_id': ObjectId('5fe6ae24c0bd0c2d5a3d7fba'), 'name': 'Binod Suman', 'email': 'test1@abc.com', 'phone': '0912345672', 'age': 36, 'country': 'US'}\n",
      "{'_id': ObjectId('5fe6ae24c0bd0c2d5a3d7fbb'), 'name': 'Cathy', 'email': 'test2@abc.com', 'phone': '0912345672', 'age': 36, 'country': 'IN'}\n",
      "{'_id': ObjectId('5fe6ae24c0bd0c2d5a3d7fbc'), 'name': 'David', 'email': 'test3@abc.com', 'phone': '0912345673', 'age': 45, 'country': 'IN'}\n",
      "{'_id': ObjectId('5fe6ae24c0bd0c2d5a3d7fbd'), 'name': 'Jason', 'email': 'test4@abc.com', 'phone': '0912345671', 'age': 26, 'country': 'US'}\n",
      "{'_id': ObjectId('5fe6ae24c0bd0c2d5a3d7fbe'), 'name': 'Jason', 'email': 'test5@abc.com', 'phone': '09342345678', 'age': 36, 'country': 'JP'}\n"
     ]
    }
   ],
   "source": [
    "for x in collection.find():\n",
    "  print(x)"
   ]
  },
  {
   "cell_type": "code",
   "execution_count": 203,
   "metadata": {},
   "outputs": [
    {
     "data": {
      "text/plain": [
       "<pymongo.results.InsertOneResult at 0x2396265e9c8>"
      ]
     },
     "execution_count": 203,
     "metadata": {},
     "output_type": "execute_result"
    }
   ],
   "source": [
    "collection2 = db[\"member\"]\n",
    "collection2.insert_one({\"name\":\"Bill Gates\", 'email': 'test4@gmail.com', \"phone\": \"0921349821\",\"country\":\"IN\",\"age\":55,\"country\":\"IN\"})\n"
   ]
  },
  {
   "cell_type": "code",
   "execution_count": 206,
   "metadata": {},
   "outputs": [
    {
     "data": {
      "text/plain": [
       "7"
      ]
     },
     "execution_count": 206,
     "metadata": {},
     "output_type": "execute_result"
    }
   ],
   "source": [
    "collection2.count_documents({})"
   ]
  },
  {
   "cell_type": "code",
   "execution_count": 207,
   "metadata": {},
   "outputs": [
    {
     "data": {
      "text/plain": [
       "{'_id': ObjectId('5fe6ae1dc0bd0c2d5a3d7fb9'),\n",
       " 'name': 'Andy',\n",
       " 'phone': '0917381313',\n",
       " 'email': 'jason@gmail.com',\n",
       " 'age': 24,\n",
       " 'country': 'JP'}"
      ]
     },
     "execution_count": 207,
     "metadata": {},
     "output_type": "execute_result"
    }
   ],
   "source": [
    "collection2.find_one()"
   ]
  },
  {
   "cell_type": "code",
   "execution_count": 208,
   "metadata": {},
   "outputs": [
    {
     "name": "stdout",
     "output_type": "stream",
     "text": [
      "{'_id': ObjectId('5fe6ae1dc0bd0c2d5a3d7fb9'), 'name': 'Andy', 'phone': '0917381313', 'email': 'jason@gmail.com', 'age': 24, 'country': 'JP'}\n",
      "{'_id': ObjectId('5fe6ae24c0bd0c2d5a3d7fba'), 'name': 'Binod Suman', 'email': 'test1@abc.com', 'phone': '0912345672', 'age': 36, 'country': 'US'}\n",
      "{'_id': ObjectId('5fe6ae24c0bd0c2d5a3d7fbb'), 'name': 'Cathy', 'email': 'test2@abc.com', 'phone': '0912345672', 'age': 36, 'country': 'IN'}\n",
      "{'_id': ObjectId('5fe6ae24c0bd0c2d5a3d7fbc'), 'name': 'David', 'email': 'test3@abc.com', 'phone': '0912345673', 'age': 45, 'country': 'IN'}\n",
      "{'_id': ObjectId('5fe6ae24c0bd0c2d5a3d7fbd'), 'name': 'Jason', 'email': 'test4@abc.com', 'phone': '0912345671', 'age': 26, 'country': 'US'}\n",
      "{'_id': ObjectId('5fe6ae24c0bd0c2d5a3d7fbe'), 'name': 'Jason', 'email': 'test5@abc.com', 'phone': '09342345678', 'age': 36, 'country': 'JP'}\n",
      "{'_id': ObjectId('5fe6ae29c0bd0c2d5a3d7fbf'), 'name': 'Bill Gates', 'email': 'test4@gmail.com', 'phone': '0921349821', 'country': 'IN', 'age': 55}\n"
     ]
    }
   ],
   "source": [
    "# Display all records\n",
    "for x in collection.find():\n",
    "  print(x)"
   ]
  },
  {
   "cell_type": "code",
   "execution_count": 209,
   "metadata": {},
   "outputs": [
    {
     "data": {
      "text/plain": [
       "<pymongo.results.DeleteResult at 0x239621f8588>"
      ]
     },
     "execution_count": 209,
     "metadata": {},
     "output_type": "execute_result"
    }
   ],
   "source": [
    "collection.delete_many({\"name\": \"Jason\"})"
   ]
  },
  {
   "cell_type": "code",
   "execution_count": 210,
   "metadata": {},
   "outputs": [
    {
     "data": {
      "text/plain": [
       "<pymongo.results.DeleteResult at 0x23962655ec8>"
      ]
     },
     "execution_count": 210,
     "metadata": {},
     "output_type": "execute_result"
    }
   ],
   "source": [
    "collection.delete_one({\"name\": \"Binod Suman\"})"
   ]
  },
  {
   "cell_type": "code",
   "execution_count": 211,
   "metadata": {},
   "outputs": [
    {
     "name": "stdout",
     "output_type": "stream",
     "text": [
      "{'_id': ObjectId('5fe6ae1dc0bd0c2d5a3d7fb9'), 'name': 'Andy', 'phone': '0917381313', 'email': 'jason@gmail.com', 'age': 24, 'country': 'JP'}\n",
      "{'_id': ObjectId('5fe6ae24c0bd0c2d5a3d7fbb'), 'name': 'Cathy', 'email': 'test2@abc.com', 'phone': '0912345672', 'age': 36, 'country': 'IN'}\n"
     ]
    }
   ],
   "source": [
    "# Display limited documents\n",
    "for x in collection.find().limit(2):\n",
    "  print(x)"
   ]
  },
  {
   "cell_type": "code",
   "execution_count": 212,
   "metadata": {},
   "outputs": [
    {
     "name": "stdout",
     "output_type": "stream",
     "text": [
      "{'name': 'Andy', 'phone': '0917381313'}\n",
      "{'name': 'Cathy', 'phone': '0912345672'}\n",
      "{'name': 'David', 'phone': '0912345673'}\n",
      "{'name': 'Bill Gates', 'phone': '0921349821'}\n"
     ]
    }
   ],
   "source": [
    "\n",
    "# Show only name and phone details\n",
    "for x in collection.find({},{\"_id\": 0,\"name\": 1,\"phone\": 1}):\n",
    "  print(x)"
   ]
  },
  {
   "cell_type": "code",
   "execution_count": 213,
   "metadata": {},
   "outputs": [
    {
     "name": "stdout",
     "output_type": "stream",
     "text": [
      "{'_id': ObjectId('5fe6ae24c0bd0c2d5a3d7fbb'), 'name': 'Cathy', 'email': 'test2@abc.com', 'phone': '0912345672', 'age': 36, 'country': 'IN'}\n",
      "{'_id': ObjectId('5fe6ae24c0bd0c2d5a3d7fbc'), 'name': 'David', 'email': 'test3@abc.com', 'phone': '0912345673', 'age': 45, 'country': 'IN'}\n",
      "{'_id': ObjectId('5fe6ae29c0bd0c2d5a3d7fbf'), 'name': 'Bill Gates', 'email': 'test4@gmail.com', 'phone': '0921349821', 'country': 'IN', 'age': 55}\n"
     ]
    }
   ],
   "source": [
    "# Get all record country is IN\n",
    "for x in collection.find({\"country\":\"IN\"}):\n",
    "  print(x)"
   ]
  },
  {
   "cell_type": "code",
   "execution_count": 214,
   "metadata": {},
   "outputs": [
    {
     "name": "stdout",
     "output_type": "stream",
     "text": [
      "{'_id': ObjectId('5fe6ae24c0bd0c2d5a3d7fbc'), 'name': 'David', 'email': 'test3@abc.com', 'phone': '0912345673', 'age': 45, 'country': 'IN'}\n",
      "{'_id': ObjectId('5fe6ae29c0bd0c2d5a3d7fbf'), 'name': 'Bill Gates', 'email': 'test4@gmail.com', 'phone': '0921349821', 'country': 'IN', 'age': 55}\n"
     ]
    }
   ],
   "source": [
    "# Get all record id is more than 2\n",
    "for x in collection.find({\"age\":{\"$gt\": 40}}):\n",
    "  print(x)"
   ]
  },
  {
   "cell_type": "code",
   "execution_count": 215,
   "metadata": {},
   "outputs": [
    {
     "name": "stdout",
     "output_type": "stream",
     "text": [
      "{'_id': ObjectId('5fe6ae24c0bd0c2d5a3d7fbc'), 'name': 'David', 'email': 'test3@abc.com', 'phone': '0912345673', 'age': 45, 'country': 'IN'}\n"
     ]
    }
   ],
   "source": [
    "# Get all record name start with \"B\"\n",
    "for x in collection.find({\"name\":{\"$regex\": \"^D\"}}):\n",
    "  print(x)"
   ]
  },
  {
   "cell_type": "code",
   "execution_count": 216,
   "metadata": {},
   "outputs": [
    {
     "name": "stdout",
     "output_type": "stream",
     "text": [
      "{'_id': ObjectId('5fe6ae1dc0bd0c2d5a3d7fb9'), 'name': 'Andy', 'phone': '0917381313', 'email': 'jason@gmail.com', 'age': 24, 'country': 'JP'}\n",
      "{'_id': ObjectId('5fe6ae29c0bd0c2d5a3d7fbf'), 'name': 'Bill Gates', 'email': 'test4@gmail.com', 'phone': '0921349821', 'country': 'IN', 'age': 55}\n",
      "{'_id': ObjectId('5fe6ae24c0bd0c2d5a3d7fbb'), 'name': 'Cathy', 'email': 'test2@abc.com', 'phone': '0912345672', 'age': 36, 'country': 'IN'}\n",
      "{'_id': ObjectId('5fe6ae24c0bd0c2d5a3d7fbc'), 'name': 'David', 'email': 'test3@abc.com', 'phone': '0912345673', 'age': 45, 'country': 'IN'}\n"
     ]
    }
   ],
   "source": [
    "# Sort on name field\n",
    "# Display all records\n",
    "for x in collection.find().sort(\"name\"):\n",
    "  print(x)"
   ]
  },
  {
   "cell_type": "code",
   "execution_count": 217,
   "metadata": {},
   "outputs": [
    {
     "name": "stdout",
     "output_type": "stream",
     "text": [
      "3 documents updated.\n"
     ]
    }
   ],
   "source": [
    "#Update Many\n",
    "myquery = { \"country\": { \"$regex\": \"^IN\" } }\n",
    "newvalues = { \"$set\": { \"country\": \"IND\" } }\n",
    "\n",
    "result = collection.update_many(myquery, newvalues)\n",
    "\n",
    "print(result.modified_count, \"documents updated.\")"
   ]
  },
  {
   "cell_type": "code",
   "execution_count": 218,
   "metadata": {},
   "outputs": [
    {
     "name": "stdout",
     "output_type": "stream",
     "text": [
      "{'_id': ObjectId('5fe6ae1dc0bd0c2d5a3d7fb9'), 'name': 'Andy', 'phone': '0917381313', 'email': 'jason@gmail.com', 'age': 24, 'country': 'JP'}\n",
      "{'_id': ObjectId('5fe6ae29c0bd0c2d5a3d7fbf'), 'name': 'Bill Gates', 'email': 'test4@gmail.com', 'phone': '0921349821', 'country': 'IND', 'age': 55}\n",
      "{'_id': ObjectId('5fe6ae24c0bd0c2d5a3d7fbb'), 'name': 'Cathy', 'email': 'test2@abc.com', 'phone': '0912345672', 'age': 36, 'country': 'IND'}\n",
      "{'_id': ObjectId('5fe6ae24c0bd0c2d5a3d7fbc'), 'name': 'David', 'email': 'test3@abc.com', 'phone': '0912345673', 'age': 45, 'country': 'IND'}\n"
     ]
    }
   ],
   "source": [
    "for x in collection.find().sort(\"name\"):\n",
    "  print(x)"
   ]
  },
  {
   "cell_type": "code",
   "execution_count": 219,
   "metadata": {},
   "outputs": [
    {
     "data": {
      "text/plain": [
       "['Member', 'admin', 'config', 'demodb', 'local']"
      ]
     },
     "execution_count": 219,
     "metadata": {},
     "output_type": "execute_result"
    }
   ],
   "source": [
    "#list database\n",
    "client.list_database_names()"
   ]
  },
  {
   "cell_type": "code",
   "execution_count": 220,
   "metadata": {},
   "outputs": [
    {
     "data": {
      "text/plain": [
       "['member']"
      ]
     },
     "execution_count": 220,
     "metadata": {},
     "output_type": "execute_result"
    }
   ],
   "source": [
    "#list collection\n",
    "client[\"demodb\"].list_collection_names()"
   ]
  },
  {
   "cell_type": "code",
   "execution_count": null,
   "metadata": {},
   "outputs": [],
   "source": []
  }
 ],
 "metadata": {
  "kernelspec": {
   "display_name": "Python 3",
   "language": "python",
   "name": "python3"
  },
  "language_info": {
   "codemirror_mode": {
    "name": "ipython",
    "version": 3
   },
   "file_extension": ".py",
   "mimetype": "text/x-python",
   "name": "python",
   "nbconvert_exporter": "python",
   "pygments_lexer": "ipython3",
   "version": "3.7.6"
  }
 },
 "nbformat": 4,
 "nbformat_minor": 2
}
